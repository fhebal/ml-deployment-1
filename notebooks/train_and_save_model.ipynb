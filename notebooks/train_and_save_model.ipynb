{
 "cells": [
  {
   "cell_type": "code",
   "execution_count": 5,
   "id": "a64df904",
   "metadata": {},
   "outputs": [
    {
     "name": "stdout",
     "output_type": "stream",
     "text": [
      "Accuracy: 0.7430167597765364\n"
     ]
    }
   ],
   "source": [
    "import pandas as pd\n",
    "from sklearn.model_selection import train_test_split\n",
    "from sklearn.pipeline import Pipeline\n",
    "from sklearn.impute import SimpleImputer\n",
    "from sklearn.preprocessing import OneHotEncoder, StandardScaler\n",
    "from sklearn.compose import ColumnTransformer\n",
    "from sklearn.ensemble import RandomForestClassifier\n",
    "from sklearn.metrics import accuracy_score\n",
    "import joblib\n",
    "\n",
    "# Load Titanic dataset from CSV file\n",
    "data = pd.read_csv('../data/train.csv')\n",
    "\n",
    "# Preprocessing: drop unnecessary columns and fill missing values\n",
    "data = data.drop(['PassengerId', 'Name', 'Ticket', 'Cabin'], axis=1)\n",
    "data['Age'] = data['Age'].fillna(data['Age'].median())\n",
    "data['Embarked'] = data['Embarked'].fillna(data['Embarked'].mode()[0])\n",
    "\n",
    "# Split data into training and testing sets\n",
    "train_data, test_data, train_labels, test_labels = train_test_split(\n",
    "    data.drop('Survived', axis=1), data['Survived'], test_size=0.2, random_state=42)\n",
    "\n",
    "# Define preprocessing pipeline\n",
    "numeric_transformer = Pipeline(steps=[\n",
    "    ('imputer', SimpleImputer(strategy='median')),\n",
    "    ('scaler', StandardScaler())])\n",
    "\n",
    "categorical_transformer = Pipeline(steps=[\n",
    "    ('imputer', SimpleImputer(strategy='most_frequent')),\n",
    "    ('onehot', OneHotEncoder(handle_unknown='ignore'))])\n",
    "\n",
    "preprocessor = ColumnTransformer(\n",
    "    transformers=[\n",
    "        ('num', numeric_transformer, ['Age', 'Fare']),\n",
    "        ('cat', categorical_transformer, ['Sex', 'Embarked'])])\n",
    "\n",
    "# Define Scikit-learn model\n",
    "model = Pipeline(steps=[('preprocessor', preprocessor),\n",
    "                        ('classifier', RandomForestClassifier())])\n",
    "\n",
    "# Train Scikit-learn model on training data\n",
    "model.fit(train_data, train_labels)\n",
    "\n",
    "# Save Scikit-learn model to disk\n",
    "joblib.dump(model, '../models/model.joblib')\n",
    "joblib.dump(preprocessor, '../models/preprocessor.joblib')\n",
    "\n",
    "# Evaluate Scikit-learn model on testing data\n",
    "predictions = model.predict(test_data)\n",
    "accuracy = accuracy_score(test_labels, predictions)\n",
    "print(f\"Accuracy: {accuracy}\")"
   ]
  },
  {
   "cell_type": "code",
   "execution_count": 16,
   "id": "aaec84d1",
   "metadata": {},
   "outputs": [
    {
     "data": {
      "text/plain": [
       "array([0])"
      ]
     },
     "execution_count": 16,
     "metadata": {},
     "output_type": "execute_result"
    }
   ],
   "source": [
    "\n",
    "\n",
    "\n",
    "\n",
    "import joblib\n",
    "import numpy as np\n",
    "from flask import Flask, request, jsonify\n",
    "\n",
    "# Load the trained model\n",
    "model = joblib.load('../models/model.joblib')\n",
    "\n",
    "# Define Flask app\n",
    "app = Flask(__name__)\n",
    "\n",
    "# Define endpoint for predicting survival\n",
    "@app.route('/predict', methods=['POST'])\n",
    "def predict():\n",
    "    # Get input data from request\n",
    "    input_data = request.get_json()\n",
    "\n",
    "    # Convert input data to a pandas DataFrame\n",
    "    input_df = pd.DataFrame(input_data, index=[0])\n",
    "\n",
    "    # Make predictions using the loaded model\n",
    "    predictions = model.predict(input_df)\n",
    "\n",
    "    # Return predictions as JSON\n",
    "    return jsonify(predictions.tolist())\n",
    "\n",
    "if __name__ == '__main__':\n",
    "    app.run(host='0.0.0.0', port=8080)\n"
   ]
  }
 ],
 "metadata": {
  "kernelspec": {
   "display_name": "Python 3 (ipykernel)",
   "language": "python",
   "name": "python3"
  },
  "language_info": {
   "codemirror_mode": {
    "name": "ipython",
    "version": 3
   },
   "file_extension": ".py",
   "mimetype": "text/x-python",
   "name": "python",
   "nbconvert_exporter": "python",
   "pygments_lexer": "ipython3",
   "version": "3.10.6"
  }
 },
 "nbformat": 4,
 "nbformat_minor": 5
}
